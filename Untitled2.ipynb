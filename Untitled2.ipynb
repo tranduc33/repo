{
 "cells": [
  {
   "cell_type": "code",
   "execution_count": 1,
   "metadata": {},
   "outputs": [
    {
     "name": "stdout",
     "output_type": "stream",
     "text": [
      "Removed compiled python file:\n",
      ".\\plugin.video.kenhtrongnuoc\\resources\\common_variables.pyo\n",
      "-----------------------------\n",
      "Removed compiled python file:\n",
      ".\\plugin.video.kenhtrongnuoc\\resources\\scrape.pyo\n",
      "-----------------------------\n",
      "Removed compiled python file:\n",
      ".\\plugin.video.kenhtrongnuoc\\resources\\__init__.pyo\n",
      "-----------------------------\n",
      "_path plugin.video.kenhtrongnuoc\\addon.xml\n",
      "1\n",
      "NEW ADD-ON - Creating zip for: plugin.video.kenhtrongnuoc v.0.2.1\n",
      "3\n",
      "_path plugin.video.PhimBoYoutube\\addon.xml\n",
      "1\n",
      "3\n",
      "_path repository.vietipbox\\addon.xml\n",
      "1\n",
      "3\n",
      "_path skin.aeon.nox.silvo\\addon.xml\n",
      "1\n",
      "3\n",
      "Finished updating addons xml and md5 files\n"
     ]
    }
   ],
   "source": [
    "%run _repo_xml_generator.py"
   ]
  },
  {
   "cell_type": "code",
   "execution_count": null,
   "metadata": {},
   "outputs": [],
   "source": []
  }
 ],
 "metadata": {
  "kernelspec": {
   "display_name": "Python 3",
   "language": "python",
   "name": "python3"
  },
  "language_info": {
   "codemirror_mode": {
    "name": "ipython",
    "version": 3
   },
   "file_extension": ".py",
   "mimetype": "text/x-python",
   "name": "python",
   "nbconvert_exporter": "python",
   "pygments_lexer": "ipython3",
   "version": "3.8.5"
  }
 },
 "nbformat": 4,
 "nbformat_minor": 4
}
