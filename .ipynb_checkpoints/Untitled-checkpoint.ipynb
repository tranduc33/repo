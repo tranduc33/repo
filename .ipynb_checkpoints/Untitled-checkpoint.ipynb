{
 "cells": [
  {
   "cell_type": "code",
   "execution_count": 1,
   "metadata": {},
   "outputs": [
    {
     "name": "stdout",
     "output_type": "stream",
     "text": [
      "_path plugin.video.PhimBoYoutube\\addon.xml\n",
      "1\n",
      "3\n",
      "_path repo\\addon.xml\n",
      "Excluding repo\\addon.xml for [Errno 2] No such file or directory: 'repo\\\\addon.xml'\n",
      "_path repository.vietipbox\\addon.xml\n",
      "1\n",
      "3\n",
      "_path skin.aeon.nox.silvo\\addon.xml\n",
      "1\n",
      "NEW ADD-ON - Creating zip for: skin.aeon.nox.silvo v.7.1.1\n",
      "3\n",
      "Finished updating addons xml and md5 files\n"
     ]
    }
   ],
   "source": [
    "%run _repo_xml_generator.py\n"
   ]
  },
  {
   "cell_type": "code",
   "execution_count": null,
   "metadata": {},
   "outputs": [],
   "source": []
  }
 ],
 "metadata": {
  "kernelspec": {
   "display_name": "Python 3",
   "language": "python",
   "name": "python3"
  },
  "language_info": {
   "codemirror_mode": {
    "name": "ipython",
    "version": 3
   },
   "file_extension": ".py",
   "mimetype": "text/x-python",
   "name": "python",
   "nbconvert_exporter": "python",
   "pygments_lexer": "ipython3",
   "version": "3.7.6"
  }
 },
 "nbformat": 4,
 "nbformat_minor": 4
}
